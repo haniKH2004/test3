{
 "cells": [
  {
   "cell_type": "code",
   "execution_count": 11,
   "id": "d40b1a53",
   "metadata": {},
   "outputs": [
    {
     "name": "stdout",
     "output_type": "stream",
     "text": [
      "5555\n"
     ]
    }
   ],
   "source": [
    "s=0\n",
    "a=\"5\"\n",
    "for i in range (3,2,-1):\n",
    "    d=a*(i+1)\n",
    "    s+= int(d)\n",
    "    \n",
    "    \n",
    "    \n",
    "    \n",
    "print(s)"
   ]
  }
 ],
 "metadata": {
  "kernelspec": {
   "display_name": "Python 3 (ipykernel)",
   "language": "python",
   "name": "python3"
  },
  "language_info": {
   "codemirror_mode": {
    "name": "ipython",
    "version": 3
   },
   "file_extension": ".py",
   "mimetype": "text/x-python",
   "name": "python",
   "nbconvert_exporter": "python",
   "pygments_lexer": "ipython3",
   "version": "3.9.12"
  }
 },
 "nbformat": 4,
 "nbformat_minor": 5
}
